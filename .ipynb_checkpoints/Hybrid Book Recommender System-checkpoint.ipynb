{
 "cells": [
  {
   "cell_type": "markdown",
   "metadata": {},
   "source": [
    "### Preprocessing data\n"
   ]
  },
  {
   "cell_type": "code",
   "execution_count": 1,
   "metadata": {
    "collapsed": true
   },
   "outputs": [],
   "source": [
    "import numpy as np # linear algebra\n",
    "import pandas as pd # data processing, CSV file I/O (e.g. pd.read_csv)\n",
    "#from subprocess import check_output\n",
    "#print(check_output([\"ls\", \"../input\"]).decode(\"utf8\"))"
   ]
  },
  {
   "cell_type": "code",
   "execution_count": 2,
   "metadata": {},
   "outputs": [
    {
     "name": "stdout",
     "output_type": "stream",
     "text": [
      "Index(['user_id', 'book_id', 'rating'], dtype='object')\n",
      "Index(['book_id', 'goodreads_book_id', 'best_book_id', 'work_id',\n",
      "       'books_count', 'isbn', 'isbn13', 'authors', 'original_publication_year',\n",
      "       'original_title', 'title', 'language_code', 'average_rating',\n",
      "       'ratings_count', 'work_ratings_count', 'work_text_reviews_count',\n",
      "       'ratings_1', 'ratings_2', 'ratings_3', 'ratings_4', 'ratings_5',\n",
      "       'image_url', 'small_image_url'],\n",
      "      dtype='object')\n",
      "   user_id  book_id  rating\n",
      "0        1      258       5\n"
     ]
    }
   ],
   "source": [
    "ratings=pd.read_csv('/Users/aditya16.narula/Sites/BookReco/goodbooks-10k/ratings.csv')\n",
    "books=pd.read_csv('/Users/aditya16.narula/Sites/BookReco/goodbooks-10k/books.csv')\n",
    "print(ratings.columns)\n",
    "#books['elo']=1200.0\n",
    "print(books.columns)\n",
    "print(ratings.head(1))"
   ]
  },
  {
   "cell_type": "markdown",
   "metadata": {},
   "source": [
    "### Get books liked by a particular User ID"
   ]
  },
  {
   "cell_type": "code",
   "execution_count": 3,
   "metadata": {},
   "outputs": [
    {
     "name": "stdout",
     "output_type": "stream",
     "text": [
      "    user_id  book_id_x  rating  book_id_y  goodreads_book_id  best_book_id  \\\n",
      "0         1         11       5         54                 11        386162   \n",
      "1         1         33       4        189                 33            33   \n",
      "2         1         10       4       3753                 10            10   \n",
      "3         1         36       4       4229                 36            36   \n",
      "4         1        119       3       3230                119           119   \n",
      "5         1         13       4        337                 13            13   \n",
      "6         1       2002       5       9048               2002          2002   \n",
      "7         1         67       3       3504                 67            67   \n",
      "8         1        378       3        561                378           378   \n",
      "9         1         98       3       7683                 98            98   \n",
      "10        1       5191       4       1311               5191          5191   \n",
      "11        1        231       3       4081                231           231   \n",
      "\n",
      "     work_id  books_count        isbn        isbn13  \\\n",
      "0    3078186          257   345391802  9.780345e+12   \n",
      "1    3462456          380   618640150  9.780619e+12   \n",
      "2   21457570            6   439827604  9.780440e+12   \n",
      "3       4414           12   618391002  9.780618e+12   \n",
      "4       4479            7   618212906  9.780618e+12   \n",
      "5     135328           32   345453743  9.780345e+12   \n",
      "6    8621948            5  043932162X  9.780439e+12   \n",
      "7    1062798           42    61159174  9.780061e+12   \n",
      "8    1782584           82   394820371  9.780395e+12   \n",
      "9       4462           45   761129588  9.780761e+12   \n",
      "10   3131254           77   316601950  9.780317e+12   \n",
      "11   1005335           53   312424442  9.780312e+12   \n",
      "\n",
      "                          ...                         ratings_count  \\\n",
      "0                         ...                                936782   \n",
      "1                         ...                                389054   \n",
      "2                         ...                                 24618   \n",
      "3                         ...                                 18788   \n",
      "4                         ...                                 24340   \n",
      "5                         ...                                222842   \n",
      "6                         ...                                 10736   \n",
      "7                         ...                                 26550   \n",
      "8                         ...                                178432   \n",
      "9                         ...                                 10807   \n",
      "10                        ...                                 71777   \n",
      "11                        ...                                 19293   \n",
      "\n",
      "    work_ratings_count work_text_reviews_count ratings_1 ratings_2  ratings_3  \\\n",
      "0              1006479                   20345     21764     41962     145173   \n",
      "1               436346                    9365      4807      9577      37552   \n",
      "2                26274                     882       203       186        946   \n",
      "3                18911                      49       297       282       1556   \n",
      "4                24412                      67       211       220       1751   \n",
      "5               238420                    4254      2657      6328      26431   \n",
      "6                11732                     185       106       304       1548   \n",
      "7                29459                    2825       831      2186       6907   \n",
      "8               185392                    8011      2848      6922      27918   \n",
      "9                13247                     784       359       816       3301   \n",
      "10               76668                    3878      1935      8327      27878   \n",
      "11               21580                    1891      1481      2886       6557   \n",
      "\n",
      "    ratings_4  ratings_5                                          image_url  \\\n",
      "0      299579     498001  https://images.gr-assets.com/books/1327656754m...   \n",
      "1      106818     277592  https://images.gr-assets.com/books/1411114164m...   \n",
      "2        3891      21048  https://images.gr-assets.com/books/1328867351m...   \n",
      "3        3743      13033  https://s.gr-assets.com/assets/nophoto/book/11...   \n",
      "4        5011      17219  https://s.gr-assets.com/assets/nophoto/book/11...   \n",
      "5       66655     136349  https://images.gr-assets.com/books/1404613595m...   \n",
      "6        2595       7179  https://images.gr-assets.com/books/1479775271m...   \n",
      "7       11005       8530  https://s.gr-assets.com/assets/nophoto/book/11...   \n",
      "8       56237      91467  https://s.gr-assets.com/assets/nophoto/book/11...   \n",
      "9        4586       4185  https://s.gr-assets.com/assets/nophoto/book/11...   \n",
      "10      26648      11880  https://images.gr-assets.com/books/1435011220m...   \n",
      "11       6890       3766  https://s.gr-assets.com/assets/nophoto/book/11...   \n",
      "\n",
      "                                      small_image_url  \n",
      "0   https://images.gr-assets.com/books/1327656754s...  \n",
      "1   https://images.gr-assets.com/books/1411114164s...  \n",
      "2   https://images.gr-assets.com/books/1328867351s...  \n",
      "3   https://s.gr-assets.com/assets/nophoto/book/50...  \n",
      "4   https://s.gr-assets.com/assets/nophoto/book/50...  \n",
      "5   https://images.gr-assets.com/books/1404613595s...  \n",
      "6   https://images.gr-assets.com/books/1479775271s...  \n",
      "7   https://s.gr-assets.com/assets/nophoto/book/50...  \n",
      "8   https://s.gr-assets.com/assets/nophoto/book/50...  \n",
      "9   https://s.gr-assets.com/assets/nophoto/book/50...  \n",
      "10  https://images.gr-assets.com/books/1435011220s...  \n",
      "11  https://s.gr-assets.com/assets/nophoto/book/50...  \n",
      "\n",
      "[12 rows x 26 columns]\n"
     ]
    }
   ],
   "source": [
    "\n",
    "userBooks = ratings.loc[ratings['user_id'] == 1]\n",
    "userbookdetails = pd.merge(userBooks, books, left_on = 'book_id', right_on = 'goodreads_book_id')\n",
    "print(userbookdetails)"
   ]
  },
  {
   "cell_type": "markdown",
   "metadata": {},
   "source": [
    "### Sparse Matrix representation"
   ]
  },
  {
   "cell_type": "code",
   "execution_count": 4,
   "metadata": {},
   "outputs": [
    {
     "name": "stdout",
     "output_type": "stream",
     "text": [
      "   song  user  plays\n",
      "0     1   258      6\n",
      "1     2  4081      5\n",
      "2     2   260      6\n",
      "3     2  9296      6\n",
      "4     2  2318      4\n"
     ]
    },
    {
     "data": {
      "text/html": [
       "<div>\n",
       "<style scoped>\n",
       "    .dataframe tbody tr th:only-of-type {\n",
       "        vertical-align: middle;\n",
       "    }\n",
       "\n",
       "    .dataframe tbody tr th {\n",
       "        vertical-align: top;\n",
       "    }\n",
       "\n",
       "    .dataframe thead th {\n",
       "        text-align: right;\n",
       "    }\n",
       "</style>\n",
       "<table border=\"1\" class=\"dataframe\">\n",
       "  <thead>\n",
       "    <tr style=\"text-align: right;\">\n",
       "      <th></th>\n",
       "      <th>song</th>\n",
       "      <th>user</th>\n",
       "      <th>plays</th>\n",
       "      <th>song_nr</th>\n",
       "    </tr>\n",
       "  </thead>\n",
       "  <tbody>\n",
       "    <tr>\n",
       "      <th>0</th>\n",
       "      <td>1</td>\n",
       "      <td>258</td>\n",
       "      <td>6</td>\n",
       "      <td>0</td>\n",
       "    </tr>\n",
       "    <tr>\n",
       "      <th>1</th>\n",
       "      <td>2</td>\n",
       "      <td>4081</td>\n",
       "      <td>5</td>\n",
       "      <td>1</td>\n",
       "    </tr>\n",
       "    <tr>\n",
       "      <th>2</th>\n",
       "      <td>2</td>\n",
       "      <td>260</td>\n",
       "      <td>6</td>\n",
       "      <td>1</td>\n",
       "    </tr>\n",
       "    <tr>\n",
       "      <th>3</th>\n",
       "      <td>2</td>\n",
       "      <td>9296</td>\n",
       "      <td>6</td>\n",
       "      <td>1</td>\n",
       "    </tr>\n",
       "    <tr>\n",
       "      <th>4</th>\n",
       "      <td>2</td>\n",
       "      <td>2318</td>\n",
       "      <td>4</td>\n",
       "      <td>1</td>\n",
       "    </tr>\n",
       "  </tbody>\n",
       "</table>\n",
       "</div>"
      ],
      "text/plain": [
       "  song  user  plays  song_nr\n",
       "0    1   258      6        0\n",
       "1    2  4081      5        1\n",
       "2    2   260      6        1\n",
       "3    2  9296      6        1\n",
       "4    2  2318      4        1"
      ]
     },
     "execution_count": 4,
     "metadata": {},
     "output_type": "execute_result"
    }
   ],
   "source": [
    "from sklearn.preprocessing import LabelEncoder\n",
    "from tqdm import tqdm\n",
    "\n",
    "\n",
    "from scipy.sparse import coo_matrix, csr_matrix\n",
    "def read_data(filename):\n",
    "    \"\"\" Reads in the last.fm dataset, and returns a tuple of a pandas dataframe\n",
    "    and a sparse matrix of song/user/playcount \"\"\"\n",
    "    # read in triples of user/song/playcount from the input dataset\n",
    "    data = pd.read_csv(filename,\n",
    "                             usecols=[0,1,2],        #[36, 11, 10] vrk_pat_primkey,prd_atc_primkey,vdp_aantal\n",
    "                             names=['song', 'user','plays'],skiprows=1) #[:1000000]   # user = patient, or prescriptionnr song=atc\n",
    "\n",
    "    data=data.dropna(axis=0, how='any')  #drop nan\n",
    "    data['plays']=data['plays']+1\n",
    "    print(data.head())\n",
    "    # map each song and user to a unique numeric value\n",
    "    data['user'] = data['user'].astype(\"category\")\n",
    "    data['song'] = data['song'].astype(\"category\")\n",
    "\n",
    "    # create a sparse matrix of all the users/plays\n",
    "    plays = coo_matrix((data['plays'].astype(float),\n",
    "                       (data['song'].cat.codes.copy(),\n",
    "                        data['user'].cat.codes.copy())))\n",
    "    data['song_nr']=data['song'].cat.codes.copy()\n",
    "    return data, plays,data.groupby(['song_nr','song']).plays.sum(),data['user'].cat.codes.copy()\n",
    "\n",
    "data,matrix,songsd,user=read_data('/Users/aditya16.narula/Sites/BookReco/goodbooks-10k/ratings.csv')\n",
    "data.head()"
   ]
  },
  {
   "cell_type": "markdown",
   "metadata": {},
   "source": [
    "### Normalize"
   ]
  },
  {
   "cell_type": "code",
   "execution_count": 5,
   "metadata": {
    "collapsed": true
   },
   "outputs": [],
   "source": [
    "from sklearn.preprocessing import normalize\n",
    "\n",
    "\n",
    "def cosine(plays):\n",
    "    normalized = normalize(plays)\n",
    "    return normalized.dot(normalized.T)\n",
    "\n",
    "\n",
    "def bhattacharya(plays):\n",
    "    plays.data = np.sqrt(plays.data)\n",
    "    return cosine(plays)\n",
    "\n",
    "\n",
    "def ochiai(plays):\n",
    "    plays = csr_matrix(plays)\n",
    "    plays.data = np.ones(len(plays.data))\n",
    "    return cosine(plays)\n",
    "\n",
    "\n",
    "def bm25_weight(data, K1=1.2, B=0.8):\n",
    "    \"\"\" Weighs each row of the matrix data by BM25 weighting \"\"\"\n",
    "    # calculate idf per term (user)\n",
    "    N = float(data.shape[0])\n",
    "    idf = np.log(N / (1 + np.bincount(data.col)))\n",
    "\n",
    "    # calculate length_norm per document (artist)\n",
    "    row_sums = np.squeeze(np.asarray(data.sum(1)))\n",
    "    average_length = row_sums.sum() / N\n",
    "    length_norm = (1.0 - B) + B * row_sums / average_length\n",
    "\n",
    "    # weight matrix rows by bm25\n",
    "    ret = coo_matrix(data)\n",
    "    ret.data = ret.data * (K1 + 1.0) / (K1 * length_norm[ret.row] + ret.data) * idf[ret.col]\n",
    "    return ret\n",
    "\n",
    "\n",
    "def bm25(plays):\n",
    "    plays = bm25_weight(plays)\n",
    "    return plays.dot(plays.T)\n",
    "\n",
    "def get_largest(row, N=10):\n",
    "    if N >= row.nnz:\n",
    "        best = zip(row.data, row.indices)\n",
    "    else:\n",
    "        ind = np.argpartition(row.data, -N)[-N:]\n",
    "        best = zip(row.data[ind], row.indices[ind])\n",
    "    return sorted(best, reverse=True)\n",
    "\n",
    "\n",
    "def calculate_similar_artists(similarity, artists, artistid):\n",
    "    neighbours = similarity[artistid]\n",
    "    top = get_largest(neighbours)\n",
    "    return [(artists[other], score, i) for i, (score, other) in enumerate(top)]\n",
    "\n",
    "\n",
    "songsd = dict(enumerate(data['song'].cat.categories))\n",
    "user_count = data.groupby('song').size()\n",
    "to_generate = sorted(list(songsd), key=lambda x: -user_count[x])\n",
    "\n",
    "similarity = bm25(matrix)"
   ]
  },
  {
   "cell_type": "markdown",
   "metadata": {},
   "source": [
    "### SVD"
   ]
  },
  {
   "cell_type": "code",
   "execution_count": null,
   "metadata": {
    "collapsed": true
   },
   "outputs": [],
   "source": [
    "from sklearn.decomposition import TruncatedSVD\n",
    "svd = TruncatedSVD(n_components=50, n_iter=7, random_state=42)\n",
    "Xr=svd.fit_transform(bm25(matrix))  \n",
    "print(svd.explained_variance_ratio_)  \n",
    "print(svd.explained_variance_ratio_.sum())"
   ]
  },
  {
   "cell_type": "markdown",
   "metadata": {},
   "source": [
    "### Cosine similarity"
   ]
  },
  {
   "cell_type": "code",
   "execution_count": null,
   "metadata": {
    "collapsed": true
   },
   "outputs": [],
   "source": [
    "from sklearn.metrics.pairwise import cosine_similarity\n",
    "Udf=pd.DataFrame(cosine_similarity(Xr))\n"
   ]
  },
  {
   "cell_type": "code",
   "execution_count": null,
   "metadata": {
    "collapsed": true
   },
   "outputs": [],
   "source": [
    "booknr=4536\n",
    "print(Udf[booknr].sort_values(ascending=False)[:10])\n",
    "books[books['id'].isin( Udf[booknr].sort_values(ascending=False)[:10].index )]"
   ]
  },
  {
   "cell_type": "code",
   "execution_count": null,
   "metadata": {
    "collapsed": true
   },
   "outputs": [],
   "source": [
    "# get the books of user 1\n",
    "userBooks = ratings.loc[ratings['user_id'] == 1]\n",
    "userbookdetails = pd.merge(userBooks, books, left_on = 'book_id', right_on = 'goodreads_book_id')\n",
    "# get the book ids liked by user 1\n",
    "bookids = userbookdetails['goodreads_book_id']\n",
    "print(type(bookids))\n"
   ]
  },
  {
   "cell_type": "code",
   "execution_count": null,
   "metadata": {
    "collapsed": true
   },
   "outputs": [],
   "source": [
    "for bookid in bookids[:10]:\n",
    "    booknr=bookid #4536\n",
    "    print(booknr)\n",
    "    print(Udf[booknr].sort_values(ascending=False)[:10])\n",
    "    books[books['id'].isin( Udf[booknr].sort_values(ascending=False)[:10].index )]\n"
   ]
  }
 ],
 "metadata": {
  "kernelspec": {
   "display_name": "Python 3",
   "language": "python",
   "name": "python3"
  },
  "language_info": {
   "codemirror_mode": {
    "name": "ipython",
    "version": 3
   },
   "file_extension": ".py",
   "mimetype": "text/x-python",
   "name": "python",
   "nbconvert_exporter": "python",
   "pygments_lexer": "ipython3",
   "version": "3.6.1"
  }
 },
 "nbformat": 4,
 "nbformat_minor": 2
}
